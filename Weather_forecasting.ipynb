{
  "nbformat": 4,
  "nbformat_minor": 0,
  "metadata": {
    "colab": {
      "provenance": []
    },
    "kernelspec": {
      "name": "python3",
      "display_name": "Python 3"
    },
    "language_info": {
      "name": "python"
    }
  },
  "cells": [
    {
      "cell_type": "markdown",
      "source": [
        "Importing necessary libraries\n",
        "\n"
      ],
      "metadata": {
        "id": "JzIUhaSmmfgk"
      }
    },
    {
      "cell_type": "code",
      "source": [
        "import pandas as pd\n",
        "import numpy as np\n",
        "import matplotlib.pyplot as plt\n",
        "import seaborn as sns"
      ],
      "metadata": {
        "id": "ICyr139ympcm"
      },
      "execution_count": 552,
      "outputs": []
    },
    {
      "cell_type": "markdown",
      "source": [
        "Exploratory Data Analysis"
      ],
      "metadata": {
        "id": "jHBiixF8mydA"
      }
    },
    {
      "cell_type": "code",
      "source": [
        "dataset=pd.read_csv(\"/content/Coimbatore,India 2023-01-01 to 2023-04-18.csv\",index_col=\"datetime\")"
      ],
      "metadata": {
        "id": "_IUTqpe7khYP"
      },
      "execution_count": 553,
      "outputs": []
    },
    {
      "cell_type": "code",
      "source": [
        "dataset.head()"
      ],
      "metadata": {
        "colab": {
          "base_uri": "https://localhost:8080/",
          "height": 504
        },
        "id": "-0zrW3htlB89",
        "outputId": "86c16922-9004-49c8-9685-a8fd546a1eb5"
      },
      "execution_count": 554,
      "outputs": [
        {
          "output_type": "execute_result",
          "data": {
            "text/plain": [
              "                        name  tempmax  tempmin  temp  feelslikemax  \\\n",
              "datetime                                                             \n",
              "2023-01-01  Coimbatore,India     31.0     20.0  25.0          29.9   \n",
              "2023-01-02  Coimbatore,India     30.0     20.8  24.6          29.1   \n",
              "2023-01-03  Coimbatore,India     29.0     20.0  24.6          28.8   \n",
              "2023-01-04  Coimbatore,India     29.1     21.0  24.7          28.8   \n",
              "2023-01-05  Coimbatore,India     29.0     20.0  24.7          28.6   \n",
              "\n",
              "            feelslikemin  feelslike   dew  humidity  precip  ...  solarenergy  \\\n",
              "datetime                                                     ...                \n",
              "2023-01-01          20.0       24.8  15.9      60.6     0.0  ...         21.9   \n",
              "2023-01-02          20.8       24.5  16.0      61.5     0.0  ...         19.7   \n",
              "2023-01-03          20.0       24.5  16.9      65.2     0.0  ...         22.2   \n",
              "2023-01-04          21.0       24.7  16.6      62.6     0.0  ...         22.3   \n",
              "2023-01-05          20.0       24.7  17.2      65.6     0.0  ...         22.3   \n",
              "\n",
              "            uvindex severerisk              sunrise               sunset  \\\n",
              "datetime                                                                   \n",
              "2023-01-01        9         10  2023-01-01T06:40:46  2023-01-01T18:10:18   \n",
              "2023-01-02        8         10  2023-01-02T06:41:10  2023-01-02T18:10:51   \n",
              "2023-01-03        9         10  2023-01-03T06:41:33  2023-01-03T18:11:24   \n",
              "2023-01-04        9         10  2023-01-04T06:41:55  2023-01-04T18:11:56   \n",
              "2023-01-05        9         10  2023-01-05T06:42:17  2023-01-05T18:12:29   \n",
              "\n",
              "            moonphase        conditions                        description  \\\n",
              "datetime                                                                     \n",
              "2023-01-01       0.30  Partially cloudy         Clearing in the afternoon.   \n",
              "2023-01-02       0.34  Partially cloudy  Partly cloudy throughout the day.   \n",
              "2023-01-03       0.37  Partially cloudy  Partly cloudy throughout the day.   \n",
              "2023-01-04       0.41  Partially cloudy  Partly cloudy throughout the day.   \n",
              "2023-01-05       0.44  Partially cloudy  Partly cloudy throughout the day.   \n",
              "\n",
              "                         icon  \\\n",
              "datetime                        \n",
              "2023-01-01  partly-cloudy-day   \n",
              "2023-01-02  partly-cloudy-day   \n",
              "2023-01-03  partly-cloudy-day   \n",
              "2023-01-04  partly-cloudy-day   \n",
              "2023-01-05  partly-cloudy-day   \n",
              "\n",
              "                                                     stations  \n",
              "datetime                                                       \n",
              "2023-01-01  VOCB,43318099999,43321099999,43341099999,43335...  \n",
              "2023-01-02  VOCB,43318099999,43321099999,43341099999,43335...  \n",
              "2023-01-03  VOCB,43318099999,43321099999,43341099999,43335...  \n",
              "2023-01-04  VOCB,43318099999,43321099999,43341099999,43335...  \n",
              "2023-01-05  VOCB,43318099999,43321099999,43341099999,43335...  \n",
              "\n",
              "[5 rows x 32 columns]"
            ],
            "text/html": [
              "\n",
              "  <div id=\"df-a0626133-7353-417d-b3ac-01378525d24e\">\n",
              "    <div class=\"colab-df-container\">\n",
              "      <div>\n",
              "<style scoped>\n",
              "    .dataframe tbody tr th:only-of-type {\n",
              "        vertical-align: middle;\n",
              "    }\n",
              "\n",
              "    .dataframe tbody tr th {\n",
              "        vertical-align: top;\n",
              "    }\n",
              "\n",
              "    .dataframe thead th {\n",
              "        text-align: right;\n",
              "    }\n",
              "</style>\n",
              "<table border=\"1\" class=\"dataframe\">\n",
              "  <thead>\n",
              "    <tr style=\"text-align: right;\">\n",
              "      <th></th>\n",
              "      <th>name</th>\n",
              "      <th>tempmax</th>\n",
              "      <th>tempmin</th>\n",
              "      <th>temp</th>\n",
              "      <th>feelslikemax</th>\n",
              "      <th>feelslikemin</th>\n",
              "      <th>feelslike</th>\n",
              "      <th>dew</th>\n",
              "      <th>humidity</th>\n",
              "      <th>precip</th>\n",
              "      <th>...</th>\n",
              "      <th>solarenergy</th>\n",
              "      <th>uvindex</th>\n",
              "      <th>severerisk</th>\n",
              "      <th>sunrise</th>\n",
              "      <th>sunset</th>\n",
              "      <th>moonphase</th>\n",
              "      <th>conditions</th>\n",
              "      <th>description</th>\n",
              "      <th>icon</th>\n",
              "      <th>stations</th>\n",
              "    </tr>\n",
              "    <tr>\n",
              "      <th>datetime</th>\n",
              "      <th></th>\n",
              "      <th></th>\n",
              "      <th></th>\n",
              "      <th></th>\n",
              "      <th></th>\n",
              "      <th></th>\n",
              "      <th></th>\n",
              "      <th></th>\n",
              "      <th></th>\n",
              "      <th></th>\n",
              "      <th></th>\n",
              "      <th></th>\n",
              "      <th></th>\n",
              "      <th></th>\n",
              "      <th></th>\n",
              "      <th></th>\n",
              "      <th></th>\n",
              "      <th></th>\n",
              "      <th></th>\n",
              "      <th></th>\n",
              "      <th></th>\n",
              "    </tr>\n",
              "  </thead>\n",
              "  <tbody>\n",
              "    <tr>\n",
              "      <th>2023-01-01</th>\n",
              "      <td>Coimbatore,India</td>\n",
              "      <td>31.0</td>\n",
              "      <td>20.0</td>\n",
              "      <td>25.0</td>\n",
              "      <td>29.9</td>\n",
              "      <td>20.0</td>\n",
              "      <td>24.8</td>\n",
              "      <td>15.9</td>\n",
              "      <td>60.6</td>\n",
              "      <td>0.0</td>\n",
              "      <td>...</td>\n",
              "      <td>21.9</td>\n",
              "      <td>9</td>\n",
              "      <td>10</td>\n",
              "      <td>2023-01-01T06:40:46</td>\n",
              "      <td>2023-01-01T18:10:18</td>\n",
              "      <td>0.30</td>\n",
              "      <td>Partially cloudy</td>\n",
              "      <td>Clearing in the afternoon.</td>\n",
              "      <td>partly-cloudy-day</td>\n",
              "      <td>VOCB,43318099999,43321099999,43341099999,43335...</td>\n",
              "    </tr>\n",
              "    <tr>\n",
              "      <th>2023-01-02</th>\n",
              "      <td>Coimbatore,India</td>\n",
              "      <td>30.0</td>\n",
              "      <td>20.8</td>\n",
              "      <td>24.6</td>\n",
              "      <td>29.1</td>\n",
              "      <td>20.8</td>\n",
              "      <td>24.5</td>\n",
              "      <td>16.0</td>\n",
              "      <td>61.5</td>\n",
              "      <td>0.0</td>\n",
              "      <td>...</td>\n",
              "      <td>19.7</td>\n",
              "      <td>8</td>\n",
              "      <td>10</td>\n",
              "      <td>2023-01-02T06:41:10</td>\n",
              "      <td>2023-01-02T18:10:51</td>\n",
              "      <td>0.34</td>\n",
              "      <td>Partially cloudy</td>\n",
              "      <td>Partly cloudy throughout the day.</td>\n",
              "      <td>partly-cloudy-day</td>\n",
              "      <td>VOCB,43318099999,43321099999,43341099999,43335...</td>\n",
              "    </tr>\n",
              "    <tr>\n",
              "      <th>2023-01-03</th>\n",
              "      <td>Coimbatore,India</td>\n",
              "      <td>29.0</td>\n",
              "      <td>20.0</td>\n",
              "      <td>24.6</td>\n",
              "      <td>28.8</td>\n",
              "      <td>20.0</td>\n",
              "      <td>24.5</td>\n",
              "      <td>16.9</td>\n",
              "      <td>65.2</td>\n",
              "      <td>0.0</td>\n",
              "      <td>...</td>\n",
              "      <td>22.2</td>\n",
              "      <td>9</td>\n",
              "      <td>10</td>\n",
              "      <td>2023-01-03T06:41:33</td>\n",
              "      <td>2023-01-03T18:11:24</td>\n",
              "      <td>0.37</td>\n",
              "      <td>Partially cloudy</td>\n",
              "      <td>Partly cloudy throughout the day.</td>\n",
              "      <td>partly-cloudy-day</td>\n",
              "      <td>VOCB,43318099999,43321099999,43341099999,43335...</td>\n",
              "    </tr>\n",
              "    <tr>\n",
              "      <th>2023-01-04</th>\n",
              "      <td>Coimbatore,India</td>\n",
              "      <td>29.1</td>\n",
              "      <td>21.0</td>\n",
              "      <td>24.7</td>\n",
              "      <td>28.8</td>\n",
              "      <td>21.0</td>\n",
              "      <td>24.7</td>\n",
              "      <td>16.6</td>\n",
              "      <td>62.6</td>\n",
              "      <td>0.0</td>\n",
              "      <td>...</td>\n",
              "      <td>22.3</td>\n",
              "      <td>9</td>\n",
              "      <td>10</td>\n",
              "      <td>2023-01-04T06:41:55</td>\n",
              "      <td>2023-01-04T18:11:56</td>\n",
              "      <td>0.41</td>\n",
              "      <td>Partially cloudy</td>\n",
              "      <td>Partly cloudy throughout the day.</td>\n",
              "      <td>partly-cloudy-day</td>\n",
              "      <td>VOCB,43318099999,43321099999,43341099999,43335...</td>\n",
              "    </tr>\n",
              "    <tr>\n",
              "      <th>2023-01-05</th>\n",
              "      <td>Coimbatore,India</td>\n",
              "      <td>29.0</td>\n",
              "      <td>20.0</td>\n",
              "      <td>24.7</td>\n",
              "      <td>28.6</td>\n",
              "      <td>20.0</td>\n",
              "      <td>24.7</td>\n",
              "      <td>17.2</td>\n",
              "      <td>65.6</td>\n",
              "      <td>0.0</td>\n",
              "      <td>...</td>\n",
              "      <td>22.3</td>\n",
              "      <td>9</td>\n",
              "      <td>10</td>\n",
              "      <td>2023-01-05T06:42:17</td>\n",
              "      <td>2023-01-05T18:12:29</td>\n",
              "      <td>0.44</td>\n",
              "      <td>Partially cloudy</td>\n",
              "      <td>Partly cloudy throughout the day.</td>\n",
              "      <td>partly-cloudy-day</td>\n",
              "      <td>VOCB,43318099999,43321099999,43341099999,43335...</td>\n",
              "    </tr>\n",
              "  </tbody>\n",
              "</table>\n",
              "<p>5 rows × 32 columns</p>\n",
              "</div>\n",
              "      <button class=\"colab-df-convert\" onclick=\"convertToInteractive('df-a0626133-7353-417d-b3ac-01378525d24e')\"\n",
              "              title=\"Convert this dataframe to an interactive table.\"\n",
              "              style=\"display:none;\">\n",
              "        \n",
              "  <svg xmlns=\"http://www.w3.org/2000/svg\" height=\"24px\"viewBox=\"0 0 24 24\"\n",
              "       width=\"24px\">\n",
              "    <path d=\"M0 0h24v24H0V0z\" fill=\"none\"/>\n",
              "    <path d=\"M18.56 5.44l.94 2.06.94-2.06 2.06-.94-2.06-.94-.94-2.06-.94 2.06-2.06.94zm-11 1L8.5 8.5l.94-2.06 2.06-.94-2.06-.94L8.5 2.5l-.94 2.06-2.06.94zm10 10l.94 2.06.94-2.06 2.06-.94-2.06-.94-.94-2.06-.94 2.06-2.06.94z\"/><path d=\"M17.41 7.96l-1.37-1.37c-.4-.4-.92-.59-1.43-.59-.52 0-1.04.2-1.43.59L10.3 9.45l-7.72 7.72c-.78.78-.78 2.05 0 2.83L4 21.41c.39.39.9.59 1.41.59.51 0 1.02-.2 1.41-.59l7.78-7.78 2.81-2.81c.8-.78.8-2.07 0-2.86zM5.41 20L4 18.59l7.72-7.72 1.47 1.35L5.41 20z\"/>\n",
              "  </svg>\n",
              "      </button>\n",
              "      \n",
              "  <style>\n",
              "    .colab-df-container {\n",
              "      display:flex;\n",
              "      flex-wrap:wrap;\n",
              "      gap: 12px;\n",
              "    }\n",
              "\n",
              "    .colab-df-convert {\n",
              "      background-color: #E8F0FE;\n",
              "      border: none;\n",
              "      border-radius: 50%;\n",
              "      cursor: pointer;\n",
              "      display: none;\n",
              "      fill: #1967D2;\n",
              "      height: 32px;\n",
              "      padding: 0 0 0 0;\n",
              "      width: 32px;\n",
              "    }\n",
              "\n",
              "    .colab-df-convert:hover {\n",
              "      background-color: #E2EBFA;\n",
              "      box-shadow: 0px 1px 2px rgba(60, 64, 67, 0.3), 0px 1px 3px 1px rgba(60, 64, 67, 0.15);\n",
              "      fill: #174EA6;\n",
              "    }\n",
              "\n",
              "    [theme=dark] .colab-df-convert {\n",
              "      background-color: #3B4455;\n",
              "      fill: #D2E3FC;\n",
              "    }\n",
              "\n",
              "    [theme=dark] .colab-df-convert:hover {\n",
              "      background-color: #434B5C;\n",
              "      box-shadow: 0px 1px 3px 1px rgba(0, 0, 0, 0.15);\n",
              "      filter: drop-shadow(0px 1px 2px rgba(0, 0, 0, 0.3));\n",
              "      fill: #FFFFFF;\n",
              "    }\n",
              "  </style>\n",
              "\n",
              "      <script>\n",
              "        const buttonEl =\n",
              "          document.querySelector('#df-a0626133-7353-417d-b3ac-01378525d24e button.colab-df-convert');\n",
              "        buttonEl.style.display =\n",
              "          google.colab.kernel.accessAllowed ? 'block' : 'none';\n",
              "\n",
              "        async function convertToInteractive(key) {\n",
              "          const element = document.querySelector('#df-a0626133-7353-417d-b3ac-01378525d24e');\n",
              "          const dataTable =\n",
              "            await google.colab.kernel.invokeFunction('convertToInteractive',\n",
              "                                                     [key], {});\n",
              "          if (!dataTable) return;\n",
              "\n",
              "          const docLinkHtml = 'Like what you see? Visit the ' +\n",
              "            '<a target=\"_blank\" href=https://colab.research.google.com/notebooks/data_table.ipynb>data table notebook</a>'\n",
              "            + ' to learn more about interactive tables.';\n",
              "          element.innerHTML = '';\n",
              "          dataTable['output_type'] = 'display_data';\n",
              "          await google.colab.output.renderOutput(dataTable, element);\n",
              "          const docLink = document.createElement('div');\n",
              "          docLink.innerHTML = docLinkHtml;\n",
              "          element.appendChild(docLink);\n",
              "        }\n",
              "      </script>\n",
              "    </div>\n",
              "  </div>\n",
              "  "
            ]
          },
          "metadata": {},
          "execution_count": 554
        }
      ]
    },
    {
      "cell_type": "markdown",
      "source": [
        "Determining whether the data is stationary or not"
      ],
      "metadata": {
        "id": "PsrtxcCom86h"
      }
    },
    {
      "cell_type": "code",
      "source": [
        "import statsmodels.api as sms"
      ],
      "metadata": {
        "id": "0B9yGhVblDm5"
      },
      "execution_count": 555,
      "outputs": []
    },
    {
      "cell_type": "code",
      "source": [
        "dataset.head()"
      ],
      "metadata": {
        "colab": {
          "base_uri": "https://localhost:8080/",
          "height": 504
        },
        "id": "KNsAEo_0n2pH",
        "outputId": "c5ea404b-2229-4ff6-c918-40a3763f76bd"
      },
      "execution_count": 556,
      "outputs": [
        {
          "output_type": "execute_result",
          "data": {
            "text/plain": [
              "                        name  tempmax  tempmin  temp  feelslikemax  \\\n",
              "datetime                                                             \n",
              "2023-01-01  Coimbatore,India     31.0     20.0  25.0          29.9   \n",
              "2023-01-02  Coimbatore,India     30.0     20.8  24.6          29.1   \n",
              "2023-01-03  Coimbatore,India     29.0     20.0  24.6          28.8   \n",
              "2023-01-04  Coimbatore,India     29.1     21.0  24.7          28.8   \n",
              "2023-01-05  Coimbatore,India     29.0     20.0  24.7          28.6   \n",
              "\n",
              "            feelslikemin  feelslike   dew  humidity  precip  ...  solarenergy  \\\n",
              "datetime                                                     ...                \n",
              "2023-01-01          20.0       24.8  15.9      60.6     0.0  ...         21.9   \n",
              "2023-01-02          20.8       24.5  16.0      61.5     0.0  ...         19.7   \n",
              "2023-01-03          20.0       24.5  16.9      65.2     0.0  ...         22.2   \n",
              "2023-01-04          21.0       24.7  16.6      62.6     0.0  ...         22.3   \n",
              "2023-01-05          20.0       24.7  17.2      65.6     0.0  ...         22.3   \n",
              "\n",
              "            uvindex severerisk              sunrise               sunset  \\\n",
              "datetime                                                                   \n",
              "2023-01-01        9         10  2023-01-01T06:40:46  2023-01-01T18:10:18   \n",
              "2023-01-02        8         10  2023-01-02T06:41:10  2023-01-02T18:10:51   \n",
              "2023-01-03        9         10  2023-01-03T06:41:33  2023-01-03T18:11:24   \n",
              "2023-01-04        9         10  2023-01-04T06:41:55  2023-01-04T18:11:56   \n",
              "2023-01-05        9         10  2023-01-05T06:42:17  2023-01-05T18:12:29   \n",
              "\n",
              "            moonphase        conditions                        description  \\\n",
              "datetime                                                                     \n",
              "2023-01-01       0.30  Partially cloudy         Clearing in the afternoon.   \n",
              "2023-01-02       0.34  Partially cloudy  Partly cloudy throughout the day.   \n",
              "2023-01-03       0.37  Partially cloudy  Partly cloudy throughout the day.   \n",
              "2023-01-04       0.41  Partially cloudy  Partly cloudy throughout the day.   \n",
              "2023-01-05       0.44  Partially cloudy  Partly cloudy throughout the day.   \n",
              "\n",
              "                         icon  \\\n",
              "datetime                        \n",
              "2023-01-01  partly-cloudy-day   \n",
              "2023-01-02  partly-cloudy-day   \n",
              "2023-01-03  partly-cloudy-day   \n",
              "2023-01-04  partly-cloudy-day   \n",
              "2023-01-05  partly-cloudy-day   \n",
              "\n",
              "                                                     stations  \n",
              "datetime                                                       \n",
              "2023-01-01  VOCB,43318099999,43321099999,43341099999,43335...  \n",
              "2023-01-02  VOCB,43318099999,43321099999,43341099999,43335...  \n",
              "2023-01-03  VOCB,43318099999,43321099999,43341099999,43335...  \n",
              "2023-01-04  VOCB,43318099999,43321099999,43341099999,43335...  \n",
              "2023-01-05  VOCB,43318099999,43321099999,43341099999,43335...  \n",
              "\n",
              "[5 rows x 32 columns]"
            ],
            "text/html": [
              "\n",
              "  <div id=\"df-8638a6ba-5bb7-4688-bc8e-845241e20c98\">\n",
              "    <div class=\"colab-df-container\">\n",
              "      <div>\n",
              "<style scoped>\n",
              "    .dataframe tbody tr th:only-of-type {\n",
              "        vertical-align: middle;\n",
              "    }\n",
              "\n",
              "    .dataframe tbody tr th {\n",
              "        vertical-align: top;\n",
              "    }\n",
              "\n",
              "    .dataframe thead th {\n",
              "        text-align: right;\n",
              "    }\n",
              "</style>\n",
              "<table border=\"1\" class=\"dataframe\">\n",
              "  <thead>\n",
              "    <tr style=\"text-align: right;\">\n",
              "      <th></th>\n",
              "      <th>name</th>\n",
              "      <th>tempmax</th>\n",
              "      <th>tempmin</th>\n",
              "      <th>temp</th>\n",
              "      <th>feelslikemax</th>\n",
              "      <th>feelslikemin</th>\n",
              "      <th>feelslike</th>\n",
              "      <th>dew</th>\n",
              "      <th>humidity</th>\n",
              "      <th>precip</th>\n",
              "      <th>...</th>\n",
              "      <th>solarenergy</th>\n",
              "      <th>uvindex</th>\n",
              "      <th>severerisk</th>\n",
              "      <th>sunrise</th>\n",
              "      <th>sunset</th>\n",
              "      <th>moonphase</th>\n",
              "      <th>conditions</th>\n",
              "      <th>description</th>\n",
              "      <th>icon</th>\n",
              "      <th>stations</th>\n",
              "    </tr>\n",
              "    <tr>\n",
              "      <th>datetime</th>\n",
              "      <th></th>\n",
              "      <th></th>\n",
              "      <th></th>\n",
              "      <th></th>\n",
              "      <th></th>\n",
              "      <th></th>\n",
              "      <th></th>\n",
              "      <th></th>\n",
              "      <th></th>\n",
              "      <th></th>\n",
              "      <th></th>\n",
              "      <th></th>\n",
              "      <th></th>\n",
              "      <th></th>\n",
              "      <th></th>\n",
              "      <th></th>\n",
              "      <th></th>\n",
              "      <th></th>\n",
              "      <th></th>\n",
              "      <th></th>\n",
              "      <th></th>\n",
              "    </tr>\n",
              "  </thead>\n",
              "  <tbody>\n",
              "    <tr>\n",
              "      <th>2023-01-01</th>\n",
              "      <td>Coimbatore,India</td>\n",
              "      <td>31.0</td>\n",
              "      <td>20.0</td>\n",
              "      <td>25.0</td>\n",
              "      <td>29.9</td>\n",
              "      <td>20.0</td>\n",
              "      <td>24.8</td>\n",
              "      <td>15.9</td>\n",
              "      <td>60.6</td>\n",
              "      <td>0.0</td>\n",
              "      <td>...</td>\n",
              "      <td>21.9</td>\n",
              "      <td>9</td>\n",
              "      <td>10</td>\n",
              "      <td>2023-01-01T06:40:46</td>\n",
              "      <td>2023-01-01T18:10:18</td>\n",
              "      <td>0.30</td>\n",
              "      <td>Partially cloudy</td>\n",
              "      <td>Clearing in the afternoon.</td>\n",
              "      <td>partly-cloudy-day</td>\n",
              "      <td>VOCB,43318099999,43321099999,43341099999,43335...</td>\n",
              "    </tr>\n",
              "    <tr>\n",
              "      <th>2023-01-02</th>\n",
              "      <td>Coimbatore,India</td>\n",
              "      <td>30.0</td>\n",
              "      <td>20.8</td>\n",
              "      <td>24.6</td>\n",
              "      <td>29.1</td>\n",
              "      <td>20.8</td>\n",
              "      <td>24.5</td>\n",
              "      <td>16.0</td>\n",
              "      <td>61.5</td>\n",
              "      <td>0.0</td>\n",
              "      <td>...</td>\n",
              "      <td>19.7</td>\n",
              "      <td>8</td>\n",
              "      <td>10</td>\n",
              "      <td>2023-01-02T06:41:10</td>\n",
              "      <td>2023-01-02T18:10:51</td>\n",
              "      <td>0.34</td>\n",
              "      <td>Partially cloudy</td>\n",
              "      <td>Partly cloudy throughout the day.</td>\n",
              "      <td>partly-cloudy-day</td>\n",
              "      <td>VOCB,43318099999,43321099999,43341099999,43335...</td>\n",
              "    </tr>\n",
              "    <tr>\n",
              "      <th>2023-01-03</th>\n",
              "      <td>Coimbatore,India</td>\n",
              "      <td>29.0</td>\n",
              "      <td>20.0</td>\n",
              "      <td>24.6</td>\n",
              "      <td>28.8</td>\n",
              "      <td>20.0</td>\n",
              "      <td>24.5</td>\n",
              "      <td>16.9</td>\n",
              "      <td>65.2</td>\n",
              "      <td>0.0</td>\n",
              "      <td>...</td>\n",
              "      <td>22.2</td>\n",
              "      <td>9</td>\n",
              "      <td>10</td>\n",
              "      <td>2023-01-03T06:41:33</td>\n",
              "      <td>2023-01-03T18:11:24</td>\n",
              "      <td>0.37</td>\n",
              "      <td>Partially cloudy</td>\n",
              "      <td>Partly cloudy throughout the day.</td>\n",
              "      <td>partly-cloudy-day</td>\n",
              "      <td>VOCB,43318099999,43321099999,43341099999,43335...</td>\n",
              "    </tr>\n",
              "    <tr>\n",
              "      <th>2023-01-04</th>\n",
              "      <td>Coimbatore,India</td>\n",
              "      <td>29.1</td>\n",
              "      <td>21.0</td>\n",
              "      <td>24.7</td>\n",
              "      <td>28.8</td>\n",
              "      <td>21.0</td>\n",
              "      <td>24.7</td>\n",
              "      <td>16.6</td>\n",
              "      <td>62.6</td>\n",
              "      <td>0.0</td>\n",
              "      <td>...</td>\n",
              "      <td>22.3</td>\n",
              "      <td>9</td>\n",
              "      <td>10</td>\n",
              "      <td>2023-01-04T06:41:55</td>\n",
              "      <td>2023-01-04T18:11:56</td>\n",
              "      <td>0.41</td>\n",
              "      <td>Partially cloudy</td>\n",
              "      <td>Partly cloudy throughout the day.</td>\n",
              "      <td>partly-cloudy-day</td>\n",
              "      <td>VOCB,43318099999,43321099999,43341099999,43335...</td>\n",
              "    </tr>\n",
              "    <tr>\n",
              "      <th>2023-01-05</th>\n",
              "      <td>Coimbatore,India</td>\n",
              "      <td>29.0</td>\n",
              "      <td>20.0</td>\n",
              "      <td>24.7</td>\n",
              "      <td>28.6</td>\n",
              "      <td>20.0</td>\n",
              "      <td>24.7</td>\n",
              "      <td>17.2</td>\n",
              "      <td>65.6</td>\n",
              "      <td>0.0</td>\n",
              "      <td>...</td>\n",
              "      <td>22.3</td>\n",
              "      <td>9</td>\n",
              "      <td>10</td>\n",
              "      <td>2023-01-05T06:42:17</td>\n",
              "      <td>2023-01-05T18:12:29</td>\n",
              "      <td>0.44</td>\n",
              "      <td>Partially cloudy</td>\n",
              "      <td>Partly cloudy throughout the day.</td>\n",
              "      <td>partly-cloudy-day</td>\n",
              "      <td>VOCB,43318099999,43321099999,43341099999,43335...</td>\n",
              "    </tr>\n",
              "  </tbody>\n",
              "</table>\n",
              "<p>5 rows × 32 columns</p>\n",
              "</div>\n",
              "      <button class=\"colab-df-convert\" onclick=\"convertToInteractive('df-8638a6ba-5bb7-4688-bc8e-845241e20c98')\"\n",
              "              title=\"Convert this dataframe to an interactive table.\"\n",
              "              style=\"display:none;\">\n",
              "        \n",
              "  <svg xmlns=\"http://www.w3.org/2000/svg\" height=\"24px\"viewBox=\"0 0 24 24\"\n",
              "       width=\"24px\">\n",
              "    <path d=\"M0 0h24v24H0V0z\" fill=\"none\"/>\n",
              "    <path d=\"M18.56 5.44l.94 2.06.94-2.06 2.06-.94-2.06-.94-.94-2.06-.94 2.06-2.06.94zm-11 1L8.5 8.5l.94-2.06 2.06-.94-2.06-.94L8.5 2.5l-.94 2.06-2.06.94zm10 10l.94 2.06.94-2.06 2.06-.94-2.06-.94-.94-2.06-.94 2.06-2.06.94z\"/><path d=\"M17.41 7.96l-1.37-1.37c-.4-.4-.92-.59-1.43-.59-.52 0-1.04.2-1.43.59L10.3 9.45l-7.72 7.72c-.78.78-.78 2.05 0 2.83L4 21.41c.39.39.9.59 1.41.59.51 0 1.02-.2 1.41-.59l7.78-7.78 2.81-2.81c.8-.78.8-2.07 0-2.86zM5.41 20L4 18.59l7.72-7.72 1.47 1.35L5.41 20z\"/>\n",
              "  </svg>\n",
              "      </button>\n",
              "      \n",
              "  <style>\n",
              "    .colab-df-container {\n",
              "      display:flex;\n",
              "      flex-wrap:wrap;\n",
              "      gap: 12px;\n",
              "    }\n",
              "\n",
              "    .colab-df-convert {\n",
              "      background-color: #E8F0FE;\n",
              "      border: none;\n",
              "      border-radius: 50%;\n",
              "      cursor: pointer;\n",
              "      display: none;\n",
              "      fill: #1967D2;\n",
              "      height: 32px;\n",
              "      padding: 0 0 0 0;\n",
              "      width: 32px;\n",
              "    }\n",
              "\n",
              "    .colab-df-convert:hover {\n",
              "      background-color: #E2EBFA;\n",
              "      box-shadow: 0px 1px 2px rgba(60, 64, 67, 0.3), 0px 1px 3px 1px rgba(60, 64, 67, 0.15);\n",
              "      fill: #174EA6;\n",
              "    }\n",
              "\n",
              "    [theme=dark] .colab-df-convert {\n",
              "      background-color: #3B4455;\n",
              "      fill: #D2E3FC;\n",
              "    }\n",
              "\n",
              "    [theme=dark] .colab-df-convert:hover {\n",
              "      background-color: #434B5C;\n",
              "      box-shadow: 0px 1px 3px 1px rgba(0, 0, 0, 0.15);\n",
              "      filter: drop-shadow(0px 1px 2px rgba(0, 0, 0, 0.3));\n",
              "      fill: #FFFFFF;\n",
              "    }\n",
              "  </style>\n",
              "\n",
              "      <script>\n",
              "        const buttonEl =\n",
              "          document.querySelector('#df-8638a6ba-5bb7-4688-bc8e-845241e20c98 button.colab-df-convert');\n",
              "        buttonEl.style.display =\n",
              "          google.colab.kernel.accessAllowed ? 'block' : 'none';\n",
              "\n",
              "        async function convertToInteractive(key) {\n",
              "          const element = document.querySelector('#df-8638a6ba-5bb7-4688-bc8e-845241e20c98');\n",
              "          const dataTable =\n",
              "            await google.colab.kernel.invokeFunction('convertToInteractive',\n",
              "                                                     [key], {});\n",
              "          if (!dataTable) return;\n",
              "\n",
              "          const docLinkHtml = 'Like what you see? Visit the ' +\n",
              "            '<a target=\"_blank\" href=https://colab.research.google.com/notebooks/data_table.ipynb>data table notebook</a>'\n",
              "            + ' to learn more about interactive tables.';\n",
              "          element.innerHTML = '';\n",
              "          dataTable['output_type'] = 'display_data';\n",
              "          await google.colab.output.renderOutput(dataTable, element);\n",
              "          const docLink = document.createElement('div');\n",
              "          docLink.innerHTML = docLinkHtml;\n",
              "          element.appendChild(docLink);\n",
              "        }\n",
              "      </script>\n",
              "    </div>\n",
              "  </div>\n",
              "  "
            ]
          },
          "metadata": {},
          "execution_count": 556
        }
      ]
    },
    {
      "cell_type": "code",
      "source": [
        "dataset.columns"
      ],
      "metadata": {
        "colab": {
          "base_uri": "https://localhost:8080/"
        },
        "id": "YRPTYaQBppaE",
        "outputId": "9504fb39-8f6d-47c6-c99b-9da4e3c45613"
      },
      "execution_count": 557,
      "outputs": [
        {
          "output_type": "execute_result",
          "data": {
            "text/plain": [
              "Index(['name', 'tempmax', 'tempmin', 'temp', 'feelslikemax', 'feelslikemin',\n",
              "       'feelslike', 'dew', 'humidity', 'precip', 'precipprob', 'precipcover',\n",
              "       'preciptype', 'snow', 'snowdepth', 'windgust', 'windspeed', 'winddir',\n",
              "       'sealevelpressure', 'cloudcover', 'visibility', 'solarradiation',\n",
              "       'solarenergy', 'uvindex', 'severerisk', 'sunrise', 'sunset',\n",
              "       'moonphase', 'conditions', 'description', 'icon', 'stations'],\n",
              "      dtype='object')"
            ]
          },
          "metadata": {},
          "execution_count": 557
        }
      ]
    },
    {
      "cell_type": "code",
      "source": [
        "dataset=dataset.drop(['name', 'tempmax', 'tempmin', 'feelslikemax', 'feelslikemin',\n",
        "       'feelslike', 'dew', 'humidity', 'precip', 'precipprob', 'precipcover',\n",
        "       'preciptype', 'snow', 'snowdepth', 'windgust', 'windspeed', 'winddir',\n",
        "       'sealevelpressure', 'cloudcover', 'visibility', 'solarradiation',\n",
        "       'solarenergy', 'uvindex', 'severerisk', 'sunrise', 'sunset',\n",
        "       'moonphase', 'conditions', 'description', 'icon', 'stations'],axis=1)"
      ],
      "metadata": {
        "id": "oqV4zQYvsrCI"
      },
      "execution_count": 558,
      "outputs": []
    },
    {
      "cell_type": "code",
      "source": [
        "dataset.plot()"
      ],
      "metadata": {
        "colab": {
          "base_uri": "https://localhost:8080/",
          "height": 467
        },
        "id": "CT94DMv70WhN",
        "outputId": "7adc3332-e7b3-453e-d446-225131e7535a"
      },
      "execution_count": 559,
      "outputs": [
        {
          "output_type": "execute_result",
          "data": {
            "text/plain": [
              "<Axes: xlabel='datetime'>"
            ]
          },
          "metadata": {},
          "execution_count": 559
        },
        {
          "output_type": "display_data",
          "data": {
            "text/plain": [
              "<Figure size 640x480 with 1 Axes>"
            ],
            "image/png": "[encoded data removed]"
          },
          "metadata": {}
        }
      ]
    },
    {
      "cell_type": "code",
      "source": [
        "from statsmodels.tsa.stattools import adfuller"
      ],
      "metadata": {
        "id": "wMMjk-7GqdDT"
      },
      "execution_count": 560,
      "outputs": []
    },
    {
      "cell_type": "markdown",
      "source": [
        "Dickey fuller test\n",
        "Null hypothesis: Data is not stationary"
      ],
      "metadata": {
        "id": "vC1KHE9tnIUu"
      }
    },
    {
      "cell_type": "code",
      "source": [
        "def df_test(series):\n",
        "  result=adfuller(series)\n",
        "  if result[1]<=0.05:\n",
        "    print(\"Reject null hypothesis\")\n",
        "  else:\n",
        "    print(\"Accept null hypothesis\")\n",
        "df_test(dataset[\"temp\"])"
      ],
      "metadata": {
        "colab": {
          "base_uri": "https://localhost:8080/"
        },
        "id": "YC9Zl7xBq8IZ",
        "outputId": "67de053d-5ebe-47f9-cae9-bf64cacf185b"
      },
      "execution_count": 561,
      "outputs": [
        {
          "output_type": "stream",
          "name": "stdout",
          "text": [
            "Accept null hypothesis\n"
          ]
        }
      ]
    },
    {
      "cell_type": "code",
      "source": [
        "dataset[\"f_diff\"]=dataset[\"temp\"]-dataset[\"temp\"].shift(1)"
      ],
      "metadata": {
        "id": "Drd_kL68sKEk"
      },
      "execution_count": 562,
      "outputs": []
    },
    {
      "cell_type": "code",
      "source": [
        "dataset.dropna(inplace=True)"
      ],
      "metadata": {
        "id": "HV-i508ctCF9"
      },
      "execution_count": 563,
      "outputs": []
    },
    {
      "cell_type": "code",
      "source": [
        "dataset.head()"
      ],
      "metadata": {
        "colab": {
          "base_uri": "https://localhost:8080/",
          "height": 237
        },
        "id": "e9JYKg2wtHSR",
        "outputId": "cb77accb-2b45-4f01-c46a-b4f82198e2ca"
      },
      "execution_count": 564,
      "outputs": [
        {
          "output_type": "execute_result",
          "data": {
            "text/plain": [
              "            temp  f_diff\n",
              "datetime                \n",
              "2023-01-02  24.6    -0.4\n",
              "2023-01-03  24.6     0.0\n",
              "2023-01-04  24.7     0.1\n",
              "2023-01-05  24.7     0.0\n",
              "2023-01-06  24.7     0.0"
            ],
            "text/html": [
              "\n",
              "  <div id=\"df-c2f17b60-13d4-4ed2-a705-e6fea2bad64d\">\n",
              "    <div class=\"colab-df-container\">\n",
              "      <div>\n",
              "<style scoped>\n",
              "    .dataframe tbody tr th:only-of-type {\n",
              "        vertical-align: middle;\n",
              "    }\n",
              "\n",
              "    .dataframe tbody tr th {\n",
              "        vertical-align: top;\n",
              "    }\n",
              "\n",
              "    .dataframe thead th {\n",
              "        text-align: right;\n",
              "    }\n",
              "</style>\n",
              "<table border=\"1\" class=\"dataframe\">\n",
              "  <thead>\n",
              "    <tr style=\"text-align: right;\">\n",
              "      <th></th>\n",
              "      <th>temp</th>\n",
              "      <th>f_diff</th>\n",
              "    </tr>\n",
              "    <tr>\n",
              "      <th>datetime</th>\n",
              "      <th></th>\n",
              "      <th></th>\n",
              "    </tr>\n",
              "  </thead>\n",
              "  <tbody>\n",
              "    <tr>\n",
              "      <th>2023-01-02</th>\n",
              "      <td>24.6</td>\n",
              "      <td>-0.4</td>\n",
              "    </tr>\n",
              "    <tr>\n",
              "      <th>2023-01-03</th>\n",
              "      <td>24.6</td>\n",
              "      <td>0.0</td>\n",
              "    </tr>\n",
              "    <tr>\n",
              "      <th>2023-01-04</th>\n",
              "      <td>24.7</td>\n",
              "      <td>0.1</td>\n",
              "    </tr>\n",
              "    <tr>\n",
              "      <th>2023-01-05</th>\n",
              "      <td>24.7</td>\n",
              "      <td>0.0</td>\n",
              "    </tr>\n",
              "    <tr>\n",
              "      <th>2023-01-06</th>\n",
              "      <td>24.7</td>\n",
              "      <td>0.0</td>\n",
              "    </tr>\n",
              "  </tbody>\n",
              "</table>\n",
              "</div>\n",
              "      <button class=\"colab-df-convert\" onclick=\"convertToInteractive('df-c2f17b60-13d4-4ed2-a705-e6fea2bad64d')\"\n",
              "              title=\"Convert this dataframe to an interactive table.\"\n",
              "              style=\"display:none;\">\n",
              "        \n",
              "  <svg xmlns=\"http://www.w3.org/2000/svg\" height=\"24px\"viewBox=\"0 0 24 24\"\n",
              "       width=\"24px\">\n",
              "    <path d=\"M0 0h24v24H0V0z\" fill=\"none\"/>\n",
              "    <path d=\"M18.56 5.44l.94 2.06.94-2.06 2.06-.94-2.06-.94-.94-2.06-.94 2.06-2.06.94zm-11 1L8.5 8.5l.94-2.06 2.06-.94-2.06-.94L8.5 2.5l-.94 2.06-2.06.94zm10 10l.94 2.06.94-2.06 2.06-.94-2.06-.94-.94-2.06-.94 2.06-2.06.94z\"/><path d=\"M17.41 7.96l-1.37-1.37c-.4-.4-.92-.59-1.43-.59-.52 0-1.04.2-1.43.59L10.3 9.45l-7.72 7.72c-.78.78-.78 2.05 0 2.83L4 21.41c.39.39.9.59 1.41.59.51 0 1.02-.2 1.41-.59l7.78-7.78 2.81-2.81c.8-.78.8-2.07 0-2.86zM5.41 20L4 18.59l7.72-7.72 1.47 1.35L5.41 20z\"/>\n",
              "  </svg>\n",
              "      </button>\n",
              "      \n",
              "  <style>\n",
              "    .colab-df-container {\n",
              "      display:flex;\n",
              "      flex-wrap:wrap;\n",
              "      gap: 12px;\n",
              "    }\n",
              "\n",
              "    .colab-df-convert {\n",
              "      background-color: #E8F0FE;\n",
              "      border: none;\n",
              "      border-radius: 50%;\n",
              "      cursor: pointer;\n",
              "      display: none;\n",
              "      fill: #1967D2;\n",
              "      height: 32px;\n",
              "      padding: 0 0 0 0;\n",
              "      width: 32px;\n",
              "    }\n",
              "\n",
              "    .colab-df-convert:hover {\n",
              "      background-color: #E2EBFA;\n",
              "      box-shadow: 0px 1px 2px rgba(60, 64, 67, 0.3), 0px 1px 3px 1px rgba(60, 64, 67, 0.15);\n",
              "      fill: #174EA6;\n",
              "    }\n",
              "\n",
              "    [theme=dark] .colab-df-convert {\n",
              "      background-color: #3B4455;\n",
              "      fill: #D2E3FC;\n",
              "    }\n",
              "\n",
              "    [theme=dark] .colab-df-convert:hover {\n",
              "      background-color: #434B5C;\n",
              "      box-shadow: 0px 1px 3px 1px rgba(0, 0, 0, 0.15);\n",
              "      filter: drop-shadow(0px 1px 2px rgba(0, 0, 0, 0.3));\n",
              "      fill: #FFFFFF;\n",
              "    }\n",
              "  </style>\n",
              "\n",
              "      <script>\n",
              "        const buttonEl =\n",
              "          document.querySelector('#df-c2f17b60-13d4-4ed2-a705-e6fea2bad64d button.colab-df-convert');\n",
              "        buttonEl.style.display =\n",
              "          google.colab.kernel.accessAllowed ? 'block' : 'none';\n",
              "\n",
              "        async function convertToInteractive(key) {\n",
              "          const element = document.querySelector('#df-c2f17b60-13d4-4ed2-a705-e6fea2bad64d');\n",
              "          const dataTable =\n",
              "            await google.colab.kernel.invokeFunction('convertToInteractive',\n",
              "                                                     [key], {});\n",
              "          if (!dataTable) return;\n",
              "\n",
              "          const docLinkHtml = 'Like what you see? Visit the ' +\n",
              "            '<a target=\"_blank\" href=https://colab.research.google.com/notebooks/data_table.ipynb>data table notebook</a>'\n",
              "            + ' to learn more about interactive tables.';\n",
              "          element.innerHTML = '';\n",
              "          dataTable['output_type'] = 'display_data';\n",
              "          await google.colab.output.renderOutput(dataTable, element);\n",
              "          const docLink = document.createElement('div');\n",
              "          docLink.innerHTML = docLinkHtml;\n",
              "          element.appendChild(docLink);\n",
              "        }\n",
              "      </script>\n",
              "    </div>\n",
              "  </div>\n",
              "  "
            ]
          },
          "metadata": {},
          "execution_count": 564
        }
      ]
    },
    {
      "cell_type": "code",
      "source": [
        "df_test(dataset[\"f_diff\"])"
      ],
      "metadata": {
        "colab": {
          "base_uri": "https://localhost:8080/"
        },
        "id": "RHTSVFbHtLOz",
        "outputId": "b582736c-e049-48d9-c33c-315e663da731"
      },
      "execution_count": 565,
      "outputs": [
        {
          "output_type": "stream",
          "name": "stdout",
          "text": [
            "Reject null hypothesis\n"
          ]
        }
      ]
    },
    {
      "cell_type": "code",
      "source": [
        "dataset[\"f_diff\"].plot()"
      ],
      "metadata": {
        "colab": {
          "base_uri": "https://localhost:8080/",
          "height": 467
        },
        "id": "-qGW7yms0Pkl",
        "outputId": "5e36dd89-b0df-4d02-ba1e-990472560969"
      },
      "execution_count": 566,
      "outputs": [
        {
          "output_type": "execute_result",
          "data": {
            "text/plain": [
              "<Axes: xlabel='datetime'>"
            ]
          },
          "metadata": {},
          "execution_count": 566
        },
        {
          "output_type": "display_data",
          "data": {
            "text/plain": [
              "<Figure size 640x480 with 1 Axes>"
            ],
            "image/png": "[encoded data removed]"
          },
          "metadata": {}
        }
      ]
    },
    {
      "cell_type": "code",
      "source": [
        "from statsmodels.graphics.tsaplots import plot_pacf,plot_acf"
      ],
      "metadata": {
        "id": "n5nfsg0B0RXc"
      },
      "execution_count": 567,
      "outputs": []
    },
    {
      "cell_type": "markdown",
      "source": [
        "PACF- to determine value of p\n",
        "ACF- to determine value of q"
      ],
      "metadata": {
        "id": "2CtRptZAnQJq"
      }
    },
    {
      "cell_type": "code",
      "source": [
        "acf=plot_acf(dataset[\"f_diff\"])"
      ],
      "metadata": {
        "colab": {
          "base_uri": "https://localhost:8080/",
          "height": 452
        },
        "id": "d6WAH4NjN31X",
        "outputId": "9b760d33-096f-40eb-b8b9-f57011314a11"
      },
      "execution_count": 568,
      "outputs": [
        {
          "output_type": "display_data",
          "data": {
            "text/plain": [
              "<Figure size 640x480 with 1 Axes>"
            ],
            "image/png": "[encoded data removed]"
          },
          "metadata": {}
        }
      ]
    },
    {
      "cell_type": "code",
      "source": [
        "pacf=plot_pacf(dataset[\"f_diff\"])"
      ],
      "metadata": {
        "colab": {
          "base_uri": "https://localhost:8080/",
          "height": 508
        },
        "id": "CZqtYcndOYBi",
        "outputId": "386bb87b-d01d-4af5-ee3f-153be5ed7394"
      },
      "execution_count": 569,
      "outputs": [
        {
          "output_type": "stream",
          "name": "stderr",
          "text": [
            "/usr/local/lib/python3.9/dist-packages/statsmodels/graphics/tsaplots.py:348: FutureWarning: The default method 'yw' can produce PACF values outside of the [-1,1] interval. After 0.13, the default will change tounadjusted Yule-Walker ('ywm'). You can use this method now by setting method='ywm'.\n",
            "  warnings.warn(\n"
          ]
        },
        {
          "output_type": "display_data",
          "data": {
            "text/plain": [
              "<Figure size 640x480 with 1 Axes>"
            ],
            "image/png": "[encoded data removed]"
          },
          "metadata": {}
        }
      ]
    },
    {
      "cell_type": "code",
      "source": [
        "from datetime import datetime,timedelta\n",
        "train_dataset_end=datetime(2023,3,31)\n",
        "test_dataset_end=datetime(2023,4,18)\n",
        "\n"
      ],
      "metadata": {
        "id": "WU65wDueOdy3"
      },
      "execution_count": 570,
      "outputs": []
    },
    {
      "cell_type": "code",
      "source": [
        "dataset.shape"
      ],
      "metadata": {
        "colab": {
          "base_uri": "https://localhost:8080/"
        },
        "id": "iWhJkIKAh2vk",
        "outputId": "1c3bb630-79ca-441f-9821-d0274d26d016"
      },
      "execution_count": 571,
      "outputs": [
        {
          "output_type": "execute_result",
          "data": {
            "text/plain": [
              "(107, 2)"
            ]
          },
          "metadata": {},
          "execution_count": 571
        }
      ]
    },
    {
      "cell_type": "code",
      "source": [
        "train_data=dataset.iloc[:80]\n",
        "test_data=dataset.iloc[81:]"
      ],
      "metadata": {
        "id": "gtNpzH2JZxTz"
      },
      "execution_count": 572,
      "outputs": []
    },
    {
      "cell_type": "code",
      "source": [
        "test_data"
      ],
      "metadata": {
        "colab": {
          "base_uri": "https://localhost:8080/",
          "height": 895
        },
        "id": "2BGS3Dlha5oU",
        "outputId": "96588a3f-d89a-4861-d6a8-c744511fd653"
      },
      "execution_count": 573,
      "outputs": [
        {
          "output_type": "execute_result",
          "data": {
            "text/plain": [
              "            temp  f_diff\n",
              "datetime                \n",
              "2023-03-24  28.2    -1.2\n",
              "2023-03-25  28.8     0.6\n",
              "2023-03-26  28.7    -0.1\n",
              "2023-03-27  27.8    -0.9\n",
              "2023-03-28  29.7     1.9\n",
              "2023-03-29  29.6    -0.1\n",
              "2023-03-30  28.5    -1.1\n",
              "2023-03-31  29.1     0.6\n",
              "2023-04-01  28.9    -0.2\n",
              "2023-04-02  28.5    -0.4\n",
              "2023-04-03  29.2     0.7\n",
              "2023-04-04  28.3    -0.9\n",
              "2023-04-05  28.8     0.5\n",
              "2023-04-06  29.0     0.2\n",
              "2023-04-07  29.3     0.3\n",
              "2023-04-08  28.8    -0.5\n",
              "2023-04-09  28.6    -0.2\n",
              "2023-04-10  28.9     0.3\n",
              "2023-04-11  29.1     0.2\n",
              "2023-04-12  29.5     0.4\n",
              "2023-04-13  29.9     0.4\n",
              "2023-04-14  30.0     0.1\n",
              "2023-04-15  29.9    -0.1\n",
              "2023-04-16  29.6    -0.3\n",
              "2023-04-17  29.6     0.0\n",
              "2023-04-18  29.4    -0.2"
            ],
            "text/html": [
              "\n",
              "  <div id=\"df-443990c7-8060-4fbf-8a8c-d98fcebbc135\">\n",
              "    <div class=\"colab-df-container\">\n",
              "      <div>\n",
              "<style scoped>\n",
              "    .dataframe tbody tr th:only-of-type {\n",
              "        vertical-align: middle;\n",
              "    }\n",
              "\n",
              "    .dataframe tbody tr th {\n",
              "        vertical-align: top;\n",
              "    }\n",
              "\n",
              "    .dataframe thead th {\n",
              "        text-align: right;\n",
              "    }\n",
              "</style>\n",
              "<table border=\"1\" class=\"dataframe\">\n",
              "  <thead>\n",
              "    <tr style=\"text-align: right;\">\n",
              "      <th></th>\n",
              "      <th>temp</th>\n",
              "      <th>f_diff</th>\n",
              "    </tr>\n",
              "    <tr>\n",
              "      <th>datetime</th>\n",
              "      <th></th>\n",
              "      <th></th>\n",
              "    </tr>\n",
              "  </thead>\n",
              "  <tbody>\n",
              "    <tr>\n",
              "      <th>2023-03-24</th>\n",
              "      <td>28.2</td>\n",
              "      <td>-1.2</td>\n",
              "    </tr>\n",
              "    <tr>\n",
              "      <th>2023-03-25</th>\n",
              "      <td>28.8</td>\n",
              "      <td>0.6</td>\n",
              "    </tr>\n",
              "    <tr>\n",
              "      <th>2023-03-26</th>\n",
              "      <td>28.7</td>\n",
              "      <td>-0.1</td>\n",
              "    </tr>\n",
              "    <tr>\n",
              "      <th>2023-03-27</th>\n",
              "      <td>27.8</td>\n",
              "      <td>-0.9</td>\n",
              "    </tr>\n",
              "    <tr>\n",
              "      <th>2023-03-28</th>\n",
              "      <td>29.7</td>\n",
              "      <td>1.9</td>\n",
              "    </tr>\n",
              "    <tr>\n",
              "      <th>2023-03-29</th>\n",
              "      <td>29.6</td>\n",
              "      <td>-0.1</td>\n",
              "    </tr>\n",
              "    <tr>\n",
              "      <th>2023-03-30</th>\n",
              "      <td>28.5</td>\n",
              "      <td>-1.1</td>\n",
              "    </tr>\n",
              "    <tr>\n",
              "      <th>2023-03-31</th>\n",
              "      <td>29.1</td>\n",
              "      <td>0.6</td>\n",
              "    </tr>\n",
              "    <tr>\n",
              "      <th>2023-04-01</th>\n",
              "      <td>28.9</td>\n",
              "      <td>-0.2</td>\n",
              "    </tr>\n",
              "    <tr>\n",
              "      <th>2023-04-02</th>\n",
              "      <td>28.5</td>\n",
              "      <td>-0.4</td>\n",
              "    </tr>\n",
              "    <tr>\n",
              "      <th>2023-04-03</th>\n",
              "      <td>29.2</td>\n",
              "      <td>0.7</td>\n",
              "    </tr>\n",
              "    <tr>\n",
              "      <th>2023-04-04</th>\n",
              "      <td>28.3</td>\n",
              "      <td>-0.9</td>\n",
              "    </tr>\n",
              "    <tr>\n",
              "      <th>2023-04-05</th>\n",
              "      <td>28.8</td>\n",
              "      <td>0.5</td>\n",
              "    </tr>\n",
              "    <tr>\n",
              "      <th>2023-04-06</th>\n",
              "      <td>29.0</td>\n",
              "      <td>0.2</td>\n",
              "    </tr>\n",
              "    <tr>\n",
              "      <th>2023-04-07</th>\n",
              "      <td>29.3</td>\n",
              "      <td>0.3</td>\n",
              "    </tr>\n",
              "    <tr>\n",
              "      <th>2023-04-08</th>\n",
              "      <td>28.8</td>\n",
              "      <td>-0.5</td>\n",
              "    </tr>\n",
              "    <tr>\n",
              "      <th>2023-04-09</th>\n",
              "      <td>28.6</td>\n",
              "      <td>-0.2</td>\n",
              "    </tr>\n",
              "    <tr>\n",
              "      <th>2023-04-10</th>\n",
              "      <td>28.9</td>\n",
              "      <td>0.3</td>\n",
              "    </tr>\n",
              "    <tr>\n",
              "      <th>2023-04-11</th>\n",
              "      <td>29.1</td>\n",
              "      <td>0.2</td>\n",
              "    </tr>\n",
              "    <tr>\n",
              "      <th>2023-04-12</th>\n",
              "      <td>29.5</td>\n",
              "      <td>0.4</td>\n",
              "    </tr>\n",
              "    <tr>\n",
              "      <th>2023-04-13</th>\n",
              "      <td>29.9</td>\n",
              "      <td>0.4</td>\n",
              "    </tr>\n",
              "    <tr>\n",
              "      <th>2023-04-14</th>\n",
              "      <td>30.0</td>\n",
              "      <td>0.1</td>\n",
              "    </tr>\n",
              "    <tr>\n",
              "      <th>2023-04-15</th>\n",
              "      <td>29.9</td>\n",
              "      <td>-0.1</td>\n",
              "    </tr>\n",
              "    <tr>\n",
              "      <th>2023-04-16</th>\n",
              "      <td>29.6</td>\n",
              "      <td>-0.3</td>\n",
              "    </tr>\n",
              "    <tr>\n",
              "      <th>2023-04-17</th>\n",
              "      <td>29.6</td>\n",
              "      <td>0.0</td>\n",
              "    </tr>\n",
              "    <tr>\n",
              "      <th>2023-04-18</th>\n",
              "      <td>29.4</td>\n",
              "      <td>-0.2</td>\n",
              "    </tr>\n",
              "  </tbody>\n",
              "</table>\n",
              "</div>\n",
              "      <button class=\"colab-df-convert\" onclick=\"convertToInteractive('df-443990c7-8060-4fbf-8a8c-d98fcebbc135')\"\n",
              "              title=\"Convert this dataframe to an interactive table.\"\n",
              "              style=\"display:none;\">\n",
              "        \n",
              "  <svg xmlns=\"http://www.w3.org/2000/svg\" height=\"24px\"viewBox=\"0 0 24 24\"\n",
              "       width=\"24px\">\n",
              "    <path d=\"M0 0h24v24H0V0z\" fill=\"none\"/>\n",
              "    <path d=\"M18.56 5.44l.94 2.06.94-2.06 2.06-.94-2.06-.94-.94-2.06-.94 2.06-2.06.94zm-11 1L8.5 8.5l.94-2.06 2.06-.94-2.06-.94L8.5 2.5l-.94 2.06-2.06.94zm10 10l.94 2.06.94-2.06 2.06-.94-2.06-.94-.94-2.06-.94 2.06-2.06.94z\"/><path d=\"M17.41 7.96l-1.37-1.37c-.4-.4-.92-.59-1.43-.59-.52 0-1.04.2-1.43.59L10.3 9.45l-7.72 7.72c-.78.78-.78 2.05 0 2.83L4 21.41c.39.39.9.59 1.41.59.51 0 1.02-.2 1.41-.59l7.78-7.78 2.81-2.81c.8-.78.8-2.07 0-2.86zM5.41 20L4 18.59l7.72-7.72 1.47 1.35L5.41 20z\"/>\n",
              "  </svg>\n",
              "      </button>\n",
              "      \n",
              "  <style>\n",
              "    .colab-df-container {\n",
              "      display:flex;\n",
              "      flex-wrap:wrap;\n",
              "      gap: 12px;\n",
              "    }\n",
              "\n",
              "    .colab-df-convert {\n",
              "      background-color: #E8F0FE;\n",
              "      border: none;\n",
              "      border-radius: 50%;\n",
              "      cursor: pointer;\n",
              "      display: none;\n",
              "      fill: #1967D2;\n",
              "      height: 32px;\n",
              "      padding: 0 0 0 0;\n",
              "      width: 32px;\n",
              "    }\n",
              "\n",
              "    .colab-df-convert:hover {\n",
              "      background-color: #E2EBFA;\n",
              "      box-shadow: 0px 1px 2px rgba(60, 64, 67, 0.3), 0px 1px 3px 1px rgba(60, 64, 67, 0.15);\n",
              "      fill: #174EA6;\n",
              "    }\n",
              "\n",
              "    [theme=dark] .colab-df-convert {\n",
              "      background-color: #3B4455;\n",
              "      fill: #D2E3FC;\n",
              "    }\n",
              "\n",
              "    [theme=dark] .colab-df-convert:hover {\n",
              "      background-color: #434B5C;\n",
              "      box-shadow: 0px 1px 3px 1px rgba(0, 0, 0, 0.15);\n",
              "      filter: drop-shadow(0px 1px 2px rgba(0, 0, 0, 0.3));\n",
              "      fill: #FFFFFF;\n",
              "    }\n",
              "  </style>\n",
              "\n",
              "      <script>\n",
              "        const buttonEl =\n",
              "          document.querySelector('#df-443990c7-8060-4fbf-8a8c-d98fcebbc135 button.colab-df-convert');\n",
              "        buttonEl.style.display =\n",
              "          google.colab.kernel.accessAllowed ? 'block' : 'none';\n",
              "\n",
              "        async function convertToInteractive(key) {\n",
              "          const element = document.querySelector('#df-443990c7-8060-4fbf-8a8c-d98fcebbc135');\n",
              "          const dataTable =\n",
              "            await google.colab.kernel.invokeFunction('convertToInteractive',\n",
              "                                                     [key], {});\n",
              "          if (!dataTable) return;\n",
              "\n",
              "          const docLinkHtml = 'Like what you see? Visit the ' +\n",
              "            '<a target=\"_blank\" href=https://colab.research.google.com/notebooks/data_table.ipynb>data table notebook</a>'\n",
              "            + ' to learn more about interactive tables.';\n",
              "          element.innerHTML = '';\n",
              "          dataTable['output_type'] = 'display_data';\n",
              "          await google.colab.output.renderOutput(dataTable, element);\n",
              "          const docLink = document.createElement('div');\n",
              "          docLink.innerHTML = docLinkHtml;\n",
              "          element.appendChild(docLink);\n",
              "        }\n",
              "      </script>\n",
              "    </div>\n",
              "  </div>\n",
              "  "
            ]
          },
          "metadata": {},
          "execution_count": 573
        }
      ]
    },
    {
      "cell_type": "markdown",
      "source": [
        "ARIMA Model"
      ],
      "metadata": {
        "id": "p8PsdV8Gnscx"
      }
    },
    {
      "cell_type": "code",
      "source": [
        "from statsmodels.tsa.arima.model import ARIMA\n",
        "model_ARIMA=ARIMA(train_data['temp'],order=(2,1,6))\n",
        "model_Arima_fit=model_ARIMA.fit()\n"
      ],
      "metadata": {
        "id": "4E2gf0fDPP5j",
        "colab": {
          "base_uri": "https://localhost:8080/"
        },
        "outputId": "3ab43e4a-e18c-4714-f1eb-1478e0ea0e35"
      },
      "execution_count": 574,
      "outputs": [
        {
          "output_type": "stream",
          "name": "stderr",
          "text": [
            "/usr/local/lib/python3.9/dist-packages/statsmodels/tsa/base/tsa_model.py:471: ValueWarning: No frequency information was provided, so inferred frequency D will be used.\n",
            "  self._init_dates(dates, freq)\n",
            "/usr/local/lib/python3.9/dist-packages/statsmodels/tsa/base/tsa_model.py:471: ValueWarning: No frequency information was provided, so inferred frequency D will be used.\n",
            "  self._init_dates(dates, freq)\n",
            "/usr/local/lib/python3.9/dist-packages/statsmodels/tsa/base/tsa_model.py:471: ValueWarning: No frequency information was provided, so inferred frequency D will be used.\n",
            "  self._init_dates(dates, freq)\n",
            "/usr/local/lib/python3.9/dist-packages/statsmodels/base/model.py:604: ConvergenceWarning: Maximum Likelihood optimization failed to converge. Check mle_retvals\n",
            "  warnings.warn(\"Maximum Likelihood optimization failed to \"\n"
          ]
        }
      ]
    },
    {
      "cell_type": "code",
      "source": [
        "model_Arima_fit.summary()"
      ],
      "metadata": {
        "colab": {
          "base_uri": "https://localhost:8080/",
          "height": 546
        },
        "id": "hl8nGIT0PbZW",
        "outputId": "0447be5a-8f57-4a61-a73d-95f8a39cb39e"
      },
      "execution_count": 575,
      "outputs": [
        {
          "output_type": "execute_result",
          "data": {
            "text/plain": [
              "<class 'statsmodels.iolib.summary.Summary'>\n",
              "\"\"\"\n",
              "                               SARIMAX Results                                \n",
              "==============================================================================\n",
              "Dep. Variable:                   temp   No. Observations:                   80\n",
              "Model:                 ARIMA(2, 1, 6)   Log Likelihood                 -67.034\n",
              "Date:                Tue, 04 Apr 2023   AIC                            152.068\n",
              "Time:                        09:35:23   BIC                            173.393\n",
              "Sample:                    01-02-2023   HQIC                           160.611\n",
              "                         - 03-22-2023                                         \n",
              "Covariance Type:                  opg                                         \n",
              "==============================================================================\n",
              "                 coef    std err          z      P>|z|      [0.025      0.975]\n",
              "------------------------------------------------------------------------------\n",
              "ar.L1          1.0756      0.096     11.252      0.000       0.888       1.263\n",
              "ar.L2         -0.8385      0.109     -7.691      0.000      -1.052      -0.625\n",
              "ma.L1         -1.2787      0.309     -4.137      0.000      -1.884      -0.673\n",
              "ma.L2          0.6138      0.678      0.905      0.365      -0.715       1.943\n",
              "ma.L3          0.5091      0.283      1.801      0.072      -0.045       1.063\n",
              "ma.L4         -0.5345      0.406     -1.315      0.188      -1.331       0.262\n",
              "ma.L5         -0.1206      0.247     -0.489      0.625      -0.604       0.363\n",
              "ma.L6          0.2745      0.179      1.533      0.125      -0.077       0.625\n",
              "sigma2         0.3031      0.126      2.406      0.016       0.056       0.550\n",
              "===================================================================================\n",
              "Ljung-Box (L1) (Q):                   0.00   Jarque-Bera (JB):                33.52\n",
              "Prob(Q):                              0.95   Prob(JB):                         0.00\n",
              "Heteroskedasticity (H):               0.78   Skew:                             0.79\n",
              "Prob(H) (two-sided):                  0.54   Kurtosis:                         5.77\n",
              "===================================================================================\n",
              "\n",
              "Warnings:\n",
              "[1] Covariance matrix calculated using the outer product of gradients (complex-step).\n",
              "\"\"\""
            ],
            "text/html": [
              "<table class=\"simpletable\">\n",
              "<caption>SARIMAX Results</caption>\n",
              "<tr>\n",
              "  <th>Dep. Variable:</th>         <td>temp</td>       <th>  No. Observations:  </th>   <td>80</td>   \n",
              "</tr>\n",
              "<tr>\n",
              "  <th>Model:</th>            <td>ARIMA(2, 1, 6)</td>  <th>  Log Likelihood     </th> <td>-67.034</td>\n",
              "</tr>\n",
              "<tr>\n",
              "  <th>Date:</th>            <td>Tue, 04 Apr 2023</td> <th>  AIC                </th> <td>152.068</td>\n",
              "</tr>\n",
              "<tr>\n",
              "  <th>Time:</th>                <td>09:35:23</td>     <th>  BIC                </th> <td>173.393</td>\n",
              "</tr>\n",
              "<tr>\n",
              "  <th>Sample:</th>             <td>01-02-2023</td>    <th>  HQIC               </th> <td>160.611</td>\n",
              "</tr>\n",
              "<tr>\n",
              "  <th></th>                   <td>- 03-22-2023</td>   <th>                     </th>    <td> </td>   \n",
              "</tr>\n",
              "<tr>\n",
              "  <th>Covariance Type:</th>        <td>opg</td>       <th>                     </th>    <td> </td>   \n",
              "</tr>\n",
              "</table>\n",
              "<table class=\"simpletable\">\n",
              "<tr>\n",
              "     <td></td>       <th>coef</th>     <th>std err</th>      <th>z</th>      <th>P>|z|</th>  <th>[0.025</th>    <th>0.975]</th>  \n",
              "</tr>\n",
              "<tr>\n",
              "  <th>ar.L1</th>  <td>    1.0756</td> <td>    0.096</td> <td>   11.252</td> <td> 0.000</td> <td>    0.888</td> <td>    1.263</td>\n",
              "</tr>\n",
              "<tr>\n",
              "  <th>ar.L2</th>  <td>   -0.8385</td> <td>    0.109</td> <td>   -7.691</td> <td> 0.000</td> <td>   -1.052</td> <td>   -0.625</td>\n",
              "</tr>\n",
              "<tr>\n",
              "  <th>ma.L1</th>  <td>   -1.2787</td> <td>    0.309</td> <td>   -4.137</td> <td> 0.000</td> <td>   -1.884</td> <td>   -0.673</td>\n",
              "</tr>\n",
              "<tr>\n",
              "  <th>ma.L2</th>  <td>    0.6138</td> <td>    0.678</td> <td>    0.905</td> <td> 0.365</td> <td>   -0.715</td> <td>    1.943</td>\n",
              "</tr>\n",
              "<tr>\n",
              "  <th>ma.L3</th>  <td>    0.5091</td> <td>    0.283</td> <td>    1.801</td> <td> 0.072</td> <td>   -0.045</td> <td>    1.063</td>\n",
              "</tr>\n",
              "<tr>\n",
              "  <th>ma.L4</th>  <td>   -0.5345</td> <td>    0.406</td> <td>   -1.315</td> <td> 0.188</td> <td>   -1.331</td> <td>    0.262</td>\n",
              "</tr>\n",
              "<tr>\n",
              "  <th>ma.L5</th>  <td>   -0.1206</td> <td>    0.247</td> <td>   -0.489</td> <td> 0.625</td> <td>   -0.604</td> <td>    0.363</td>\n",
              "</tr>\n",
              "<tr>\n",
              "  <th>ma.L6</th>  <td>    0.2745</td> <td>    0.179</td> <td>    1.533</td> <td> 0.125</td> <td>   -0.077</td> <td>    0.625</td>\n",
              "</tr>\n",
              "<tr>\n",
              "  <th>sigma2</th> <td>    0.3031</td> <td>    0.126</td> <td>    2.406</td> <td> 0.016</td> <td>    0.056</td> <td>    0.550</td>\n",
              "</tr>\n",
              "</table>\n",
              "<table class=\"simpletable\">\n",
              "<tr>\n",
              "  <th>Ljung-Box (L1) (Q):</th>     <td>0.00</td> <th>  Jarque-Bera (JB):  </th> <td>33.52</td>\n",
              "</tr>\n",
              "<tr>\n",
              "  <th>Prob(Q):</th>                <td>0.95</td> <th>  Prob(JB):          </th> <td>0.00</td> \n",
              "</tr>\n",
              "<tr>\n",
              "  <th>Heteroskedasticity (H):</th> <td>0.78</td> <th>  Skew:              </th> <td>0.79</td> \n",
              "</tr>\n",
              "<tr>\n",
              "  <th>Prob(H) (two-sided):</th>    <td>0.54</td> <th>  Kurtosis:          </th> <td>5.77</td> \n",
              "</tr>\n",
              "</table><br/><br/>Warnings:<br/>[1] Covariance matrix calculated using the outer product of gradients (complex-step)."
            ]
          },
          "metadata": {},
          "execution_count": 575
        }
      ]
    },
    {
      "cell_type": "code",
      "source": [
        "pred_start_date=test_data.index[0]\n",
        "pred_end_date=test_data.index[-1]\n",
        "print(pred_start_date)\n",
        "print(pred_end_date)"
      ],
      "metadata": {
        "id": "3HG92boZPqEh",
        "colab": {
          "base_uri": "https://localhost:8080/"
        },
        "outputId": "fbba8c02-d7d0-4e8b-8955-7601bd457daa"
      },
      "execution_count": 576,
      "outputs": [
        {
          "output_type": "stream",
          "name": "stdout",
          "text": [
            "2023-03-24\n",
            "2023-04-18\n"
          ]
        }
      ]
    },
    {
      "cell_type": "code",
      "source": [
        "pred=model_Arima_fit.predict(start=pred_start_date,end=pred_end_date)\n",
        "residuals=test_data['temp']-pred"
      ],
      "metadata": {
        "id": "rdlcyxRxQC7R"
      },
      "execution_count": 577,
      "outputs": []
    },
    {
      "cell_type": "code",
      "source": [
        "pred\n"
      ],
      "metadata": {
        "colab": {
          "base_uri": "https://localhost:8080/"
        },
        "id": "bpofyIl4QN1y",
        "outputId": "13898673-0f3c-479e-e344-33b131d89424"
      },
      "execution_count": 578,
      "outputs": [
        {
          "output_type": "execute_result",
          "data": {
            "text/plain": [
              "2023-03-24    28.737663\n",
              "2023-03-25    28.561098\n",
              "2023-03-26    28.549710\n",
              "2023-03-27    28.852628\n",
              "2023-03-28    29.014199\n",
              "2023-03-29    28.934000\n",
              "2023-03-30    28.712261\n",
              "2023-03-31    28.540999\n",
              "2023-04-01    28.542707\n",
              "2023-04-02    28.688143\n",
              "2023-04-03    28.843146\n",
              "2023-04-04    28.887928\n",
              "2023-04-05    28.806129\n",
              "2023-04-06    28.680596\n",
              "2023-04-07    28.614155\n",
              "2023-04-08    28.647946\n",
              "2023-04-09    28.740002\n",
              "2023-04-10    28.810687\n",
              "2023-04-11    28.809530\n",
              "2023-04-12    28.749019\n",
              "2023-04-13    28.684901\n",
              "2023-04-14    28.666671\n",
              "2023-04-15    28.700824\n",
              "2023-04-16    28.752845\n",
              "2023-04-17    28.780164\n",
              "2023-04-18    28.765931\n",
              "Freq: D, Name: predicted_mean, dtype: float64"
            ]
          },
          "metadata": {},
          "execution_count": 578
        }
      ]
    }
  ]
}